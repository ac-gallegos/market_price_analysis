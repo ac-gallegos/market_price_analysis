{
 "cells": [
  {
   "cell_type": "code",
   "execution_count": 30,
   "metadata": {},
   "outputs": [],
   "source": [
    "import pandas as pd\n",
    "pd.set_option('display.float_format', lambda x: '%.3f' % x)\n",
    "path_dataset = 'dataset/datos_properati_limpios_model.csv'\n",
    "df = pd.read_csv(path_dataset)"
   ]
  },
  {
   "cell_type": "code",
   "execution_count": null,
   "metadata": {},
   "outputs": [],
   "source": [
    "#Separamos el dataset en entrenamiento (80%) y test (20%) utilizando como target la columna price_aprox_usd"
   ]
  },
  {
   "cell_type": "code",
   "execution_count": 31,
   "metadata": {},
   "outputs": [],
   "source": [
    "X = df.drop(['price_aprox_usd'], axis=1)\n",
    "y = df['price_aprox_usd']\n",
    "\n",
    "from sklearn.model_selection import train_test_split\n",
    "X_train, X_test, y_train, y_test = train_test_split(X,y, test_size=0.2, random_state=42)"
   ]
  },
  {
   "cell_type": "code",
   "execution_count": 32,
   "metadata": {},
   "outputs": [
    {
     "name": "stdout",
     "output_type": "stream",
     "text": [
      "5100 1276\n"
     ]
    }
   ],
   "source": [
    "# Esto es lo que hace\n",
    "import numpy as np\n",
    "np.random.seed(123)\n",
    "from sklearn.model_selection import train_test_split\n",
    "X = df.drop(['price_aprox_usd'], axis=1)\n",
    "y = df['price_aprox_usd']\n",
    "X_train, X_test, y_train, y_test = train_test_split(\n",
    "    X, y, test_size=0.2, random_state=42)\n",
    "\n",
    "print(X_train.shape[0], X_test.shape[0])"
   ]
  },
  {
   "cell_type": "markdown",
   "metadata": {},
   "source": [
    "## Scikit-learn - Entrenamiento"
   ]
  },
  {
   "cell_type": "code",
   "execution_count": null,
   "metadata": {},
   "outputs": [],
   "source": [
    "#Creamos una variable param_grid con valores del 1 al 5 para los atributos max_depth y max_features."
   ]
  },
  {
   "cell_type": "code",
   "execution_count": 33,
   "metadata": {},
   "outputs": [],
   "source": [
    "param_grid = {'max_depth':np.arange(1, 5),\n",
    "              'max_features':np.arange(1, 5),\n",
    "              'random_state':[0]}"
   ]
  },
  {
   "cell_type": "code",
   "execution_count": null,
   "metadata": {},
   "outputs": [],
   "source": [
    "#Importamos GridSearchCV y DecisionTreeRegressor"
   ]
  },
  {
   "cell_type": "code",
   "execution_count": 34,
   "metadata": {},
   "outputs": [],
   "source": [
    "from sklearn.tree import DecisionTreeRegressor\n",
    "from sklearn.model_selection import GridSearchCV\n",
    "tree_reg=DecisionTreeRegressor()\n",
    "\n",
    "grid_search=GridSearchCV(tree_reg, param_grid=param_grid, cv=5, scoring=\"neg_mean_squared_error\")"
   ]
  },
  {
   "cell_type": "code",
   "execution_count": null,
   "metadata": {},
   "outputs": [],
   "source": [
    "#entrenamos el grid_search con el conjunto de entrenamiento"
   ]
  },
  {
   "cell_type": "code",
   "execution_count": 35,
   "metadata": {},
   "outputs": [
    {
     "data": {
      "text/plain": [
       "GridSearchCV(cv=5, error_score='raise-deprecating',\n",
       "             estimator=DecisionTreeRegressor(criterion='mse', max_depth=None,\n",
       "                                             max_features=None,\n",
       "                                             max_leaf_nodes=None,\n",
       "                                             min_impurity_decrease=0.0,\n",
       "                                             min_impurity_split=None,\n",
       "                                             min_samples_leaf=1,\n",
       "                                             min_samples_split=2,\n",
       "                                             min_weight_fraction_leaf=0.0,\n",
       "                                             presort=False, random_state=None,\n",
       "                                             splitter='best'),\n",
       "             iid='warn', n_jobs=None,\n",
       "             param_grid={'max_depth': array([1, 2, 3, 4]),\n",
       "                         'max_features': array([1, 2, 3, 4]),\n",
       "                         'random_state': [0]},\n",
       "             pre_dispatch='2*n_jobs', refit=True, return_train_score=False,\n",
       "             scoring='neg_mean_squared_error', verbose=0)"
      ]
     },
     "execution_count": 35,
     "metadata": {},
     "output_type": "execute_result"
    }
   ],
   "source": [
    "grid_search.fit(X_train, y_train)"
   ]
  },
  {
   "cell_type": "code",
   "execution_count": null,
   "metadata": {},
   "outputs": [],
   "source": [
    "#revisamos los resultados"
   ]
  },
  {
   "cell_type": "code",
   "execution_count": 36,
   "metadata": {},
   "outputs": [
    {
     "data": {
      "text/plain": [
       "make_scorer(mean_squared_error, greater_is_better=False)"
      ]
     },
     "execution_count": 36,
     "metadata": {},
     "output_type": "execute_result"
    }
   ],
   "source": [
    "grid_search.scorer_"
   ]
  },
  {
   "cell_type": "code",
   "execution_count": null,
   "metadata": {},
   "outputs": [],
   "source": [
    "#Mostramos los grid_scores obtenidos durante el grid_search"
   ]
  },
  {
   "cell_type": "code",
   "execution_count": 37,
   "metadata": {},
   "outputs": [
    {
     "data": {
      "text/html": [
       "<div>\n",
       "<style scoped>\n",
       "    .dataframe tbody tr th:only-of-type {\n",
       "        vertical-align: middle;\n",
       "    }\n",
       "\n",
       "    .dataframe tbody tr th {\n",
       "        vertical-align: top;\n",
       "    }\n",
       "\n",
       "    .dataframe thead th {\n",
       "        text-align: right;\n",
       "    }\n",
       "</style>\n",
       "<table border=\"1\" class=\"dataframe\">\n",
       "  <thead>\n",
       "    <tr style=\"text-align: right;\">\n",
       "      <th></th>\n",
       "      <th>mean_fit_time</th>\n",
       "      <th>std_fit_time</th>\n",
       "      <th>mean_score_time</th>\n",
       "      <th>std_score_time</th>\n",
       "      <th>param_max_depth</th>\n",
       "      <th>param_max_features</th>\n",
       "      <th>param_random_state</th>\n",
       "      <th>params</th>\n",
       "      <th>split0_test_score</th>\n",
       "      <th>split1_test_score</th>\n",
       "      <th>split2_test_score</th>\n",
       "      <th>split3_test_score</th>\n",
       "      <th>split4_test_score</th>\n",
       "      <th>mean_test_score</th>\n",
       "      <th>std_test_score</th>\n",
       "      <th>rank_test_score</th>\n",
       "    </tr>\n",
       "  </thead>\n",
       "  <tbody>\n",
       "    <tr>\n",
       "      <th>0</th>\n",
       "      <td>0.026</td>\n",
       "      <td>0.008</td>\n",
       "      <td>0.007</td>\n",
       "      <td>0.003</td>\n",
       "      <td>1</td>\n",
       "      <td>1</td>\n",
       "      <td>0</td>\n",
       "      <td>{'max_depth': 1, 'max_features': 1, 'random_st...</td>\n",
       "      <td>-997527974.201</td>\n",
       "      <td>-992475505.903</td>\n",
       "      <td>-934306596.646</td>\n",
       "      <td>-1004573568.526</td>\n",
       "      <td>-970067215.408</td>\n",
       "      <td>-979790172.137</td>\n",
       "      <td>25507079.717</td>\n",
       "      <td>15</td>\n",
       "    </tr>\n",
       "    <tr>\n",
       "      <th>1</th>\n",
       "      <td>0.022</td>\n",
       "      <td>0.003</td>\n",
       "      <td>0.006</td>\n",
       "      <td>0.004</td>\n",
       "      <td>1</td>\n",
       "      <td>2</td>\n",
       "      <td>0</td>\n",
       "      <td>{'max_depth': 1, 'max_features': 2, 'random_st...</td>\n",
       "      <td>-997975870.246</td>\n",
       "      <td>-992475505.903</td>\n",
       "      <td>-934202375.860</td>\n",
       "      <td>-1004635347.873</td>\n",
       "      <td>-969689178.103</td>\n",
       "      <td>-979795655.597</td>\n",
       "      <td>25648380.710</td>\n",
       "      <td>16</td>\n",
       "    </tr>\n",
       "    <tr>\n",
       "      <th>2</th>\n",
       "      <td>0.026</td>\n",
       "      <td>0.009</td>\n",
       "      <td>0.006</td>\n",
       "      <td>0.002</td>\n",
       "      <td>1</td>\n",
       "      <td>3</td>\n",
       "      <td>0</td>\n",
       "      <td>{'max_depth': 1, 'max_features': 3, 'random_st...</td>\n",
       "      <td>-986068693.940</td>\n",
       "      <td>-972814621.276</td>\n",
       "      <td>-920043980.268</td>\n",
       "      <td>-997926096.305</td>\n",
       "      <td>-960303338.034</td>\n",
       "      <td>-967431345.965</td>\n",
       "      <td>26842619.528</td>\n",
       "      <td>9</td>\n",
       "    </tr>\n",
       "    <tr>\n",
       "      <th>3</th>\n",
       "      <td>0.018</td>\n",
       "      <td>0.005</td>\n",
       "      <td>0.005</td>\n",
       "      <td>0.006</td>\n",
       "      <td>1</td>\n",
       "      <td>4</td>\n",
       "      <td>0</td>\n",
       "      <td>{'max_depth': 1, 'max_features': 4, 'random_st...</td>\n",
       "      <td>-986068693.940</td>\n",
       "      <td>-972814621.276</td>\n",
       "      <td>-920043980.268</td>\n",
       "      <td>-997926096.305</td>\n",
       "      <td>-960303338.034</td>\n",
       "      <td>-967431345.965</td>\n",
       "      <td>26842619.528</td>\n",
       "      <td>9</td>\n",
       "    </tr>\n",
       "    <tr>\n",
       "      <th>4</th>\n",
       "      <td>0.020</td>\n",
       "      <td>0.006</td>\n",
       "      <td>0.003</td>\n",
       "      <td>0.006</td>\n",
       "      <td>2</td>\n",
       "      <td>1</td>\n",
       "      <td>0</td>\n",
       "      <td>{'max_depth': 2, 'max_features': 1, 'random_st...</td>\n",
       "      <td>-996490372.809</td>\n",
       "      <td>-992306520.398</td>\n",
       "      <td>-932135670.013</td>\n",
       "      <td>-1003759702.573</td>\n",
       "      <td>-970021149.747</td>\n",
       "      <td>-978942683.108</td>\n",
       "      <td>25972632.706</td>\n",
       "      <td>14</td>\n",
       "    </tr>\n",
       "    <tr>\n",
       "      <th>5</th>\n",
       "      <td>0.016</td>\n",
       "      <td>0.000</td>\n",
       "      <td>0.008</td>\n",
       "      <td>0.007</td>\n",
       "      <td>2</td>\n",
       "      <td>2</td>\n",
       "      <td>0</td>\n",
       "      <td>{'max_depth': 2, 'max_features': 2, 'random_st...</td>\n",
       "      <td>-996946973.633</td>\n",
       "      <td>-976087254.774</td>\n",
       "      <td>-935586264.876</td>\n",
       "      <td>-1002983978.734</td>\n",
       "      <td>-968899285.858</td>\n",
       "      <td>-976100751.575</td>\n",
       "      <td>23877009.024</td>\n",
       "      <td>12</td>\n",
       "    </tr>\n",
       "    <tr>\n",
       "      <th>6</th>\n",
       "      <td>0.021</td>\n",
       "      <td>0.003</td>\n",
       "      <td>0.003</td>\n",
       "      <td>0.003</td>\n",
       "      <td>2</td>\n",
       "      <td>3</td>\n",
       "      <td>0</td>\n",
       "      <td>{'max_depth': 2, 'max_features': 3, 'random_st...</td>\n",
       "      <td>-969811583.866</td>\n",
       "      <td>-755794407.028</td>\n",
       "      <td>-908478812.456</td>\n",
       "      <td>-979317773.616</td>\n",
       "      <td>-928665884.458</td>\n",
       "      <td>-908413692.285</td>\n",
       "      <td>80622443.030</td>\n",
       "      <td>5</td>\n",
       "    </tr>\n",
       "    <tr>\n",
       "      <th>7</th>\n",
       "      <td>0.023</td>\n",
       "      <td>0.006</td>\n",
       "      <td>0.005</td>\n",
       "      <td>0.003</td>\n",
       "      <td>2</td>\n",
       "      <td>4</td>\n",
       "      <td>0</td>\n",
       "      <td>{'max_depth': 2, 'max_features': 4, 'random_st...</td>\n",
       "      <td>-982713573.930</td>\n",
       "      <td>-974503916.115</td>\n",
       "      <td>-919663257.773</td>\n",
       "      <td>-997704078.603</td>\n",
       "      <td>-955909260.881</td>\n",
       "      <td>-966098817.461</td>\n",
       "      <td>26853962.890</td>\n",
       "      <td>8</td>\n",
       "    </tr>\n",
       "    <tr>\n",
       "      <th>8</th>\n",
       "      <td>0.019</td>\n",
       "      <td>0.003</td>\n",
       "      <td>0.007</td>\n",
       "      <td>0.006</td>\n",
       "      <td>3</td>\n",
       "      <td>1</td>\n",
       "      <td>0</td>\n",
       "      <td>{'max_depth': 3, 'max_features': 1, 'random_st...</td>\n",
       "      <td>-992620573.217</td>\n",
       "      <td>-989090204.627</td>\n",
       "      <td>-940505133.693</td>\n",
       "      <td>-998900308.457</td>\n",
       "      <td>-965513169.822</td>\n",
       "      <td>-977325877.963</td>\n",
       "      <td>21601344.487</td>\n",
       "      <td>13</td>\n",
       "    </tr>\n",
       "    <tr>\n",
       "      <th>9</th>\n",
       "      <td>0.022</td>\n",
       "      <td>0.008</td>\n",
       "      <td>0.004</td>\n",
       "      <td>0.004</td>\n",
       "      <td>3</td>\n",
       "      <td>2</td>\n",
       "      <td>0</td>\n",
       "      <td>{'max_depth': 3, 'max_features': 2, 'random_st...</td>\n",
       "      <td>-963480682.134</td>\n",
       "      <td>-960258768.249</td>\n",
       "      <td>-912984630.633</td>\n",
       "      <td>-979905542.789</td>\n",
       "      <td>-946362491.480</td>\n",
       "      <td>-952598423.057</td>\n",
       "      <td>22498544.984</td>\n",
       "      <td>7</td>\n",
       "    </tr>\n",
       "    <tr>\n",
       "      <th>10</th>\n",
       "      <td>0.019</td>\n",
       "      <td>0.006</td>\n",
       "      <td>0.004</td>\n",
       "      <td>0.006</td>\n",
       "      <td>3</td>\n",
       "      <td>3</td>\n",
       "      <td>0</td>\n",
       "      <td>{'max_depth': 3, 'max_features': 3, 'random_st...</td>\n",
       "      <td>-711158640.767</td>\n",
       "      <td>-732356313.178</td>\n",
       "      <td>-709506366.187</td>\n",
       "      <td>-753658308.853</td>\n",
       "      <td>-743167222.734</td>\n",
       "      <td>-729969370.344</td>\n",
       "      <td>17398992.487</td>\n",
       "      <td>1</td>\n",
       "    </tr>\n",
       "    <tr>\n",
       "      <th>11</th>\n",
       "      <td>0.019</td>\n",
       "      <td>0.006</td>\n",
       "      <td>0.004</td>\n",
       "      <td>0.006</td>\n",
       "      <td>3</td>\n",
       "      <td>4</td>\n",
       "      <td>0</td>\n",
       "      <td>{'max_depth': 3, 'max_features': 4, 'random_st...</td>\n",
       "      <td>-871198982.020</td>\n",
       "      <td>-954863478.154</td>\n",
       "      <td>-837811539.996</td>\n",
       "      <td>-904960115.122</td>\n",
       "      <td>-896217072.053</td>\n",
       "      <td>-893010237.469</td>\n",
       "      <td>38733793.551</td>\n",
       "      <td>4</td>\n",
       "    </tr>\n",
       "    <tr>\n",
       "      <th>12</th>\n",
       "      <td>0.025</td>\n",
       "      <td>0.008</td>\n",
       "      <td>0.009</td>\n",
       "      <td>0.006</td>\n",
       "      <td>4</td>\n",
       "      <td>1</td>\n",
       "      <td>0</td>\n",
       "      <td>{'max_depth': 4, 'max_features': 1, 'random_st...</td>\n",
       "      <td>-999402169.915</td>\n",
       "      <td>-988713807.509</td>\n",
       "      <td>-931640620.946</td>\n",
       "      <td>-994781856.066</td>\n",
       "      <td>-934470105.894</td>\n",
       "      <td>-969801712.066</td>\n",
       "      <td>30207460.414</td>\n",
       "      <td>11</td>\n",
       "    </tr>\n",
       "    <tr>\n",
       "      <th>13</th>\n",
       "      <td>0.022</td>\n",
       "      <td>0.008</td>\n",
       "      <td>0.004</td>\n",
       "      <td>0.006</td>\n",
       "      <td>4</td>\n",
       "      <td>2</td>\n",
       "      <td>0</td>\n",
       "      <td>{'max_depth': 4, 'max_features': 2, 'random_st...</td>\n",
       "      <td>-954490700.321</td>\n",
       "      <td>-936378832.265</td>\n",
       "      <td>-910022835.353</td>\n",
       "      <td>-973397851.809</td>\n",
       "      <td>-919369856.037</td>\n",
       "      <td>-938732015.157</td>\n",
       "      <td>23042152.978</td>\n",
       "      <td>6</td>\n",
       "    </tr>\n",
       "    <tr>\n",
       "      <th>14</th>\n",
       "      <td>0.020</td>\n",
       "      <td>0.006</td>\n",
       "      <td>0.006</td>\n",
       "      <td>0.008</td>\n",
       "      <td>4</td>\n",
       "      <td>3</td>\n",
       "      <td>0</td>\n",
       "      <td>{'max_depth': 4, 'max_features': 3, 'random_st...</td>\n",
       "      <td>-673535627.956</td>\n",
       "      <td>-967247345.713</td>\n",
       "      <td>-708730437.691</td>\n",
       "      <td>-750376246.461</td>\n",
       "      <td>-725578715.452</td>\n",
       "      <td>-765093674.655</td>\n",
       "      <td>104119000.967</td>\n",
       "      <td>2</td>\n",
       "    </tr>\n",
       "    <tr>\n",
       "      <th>15</th>\n",
       "      <td>0.021</td>\n",
       "      <td>0.006</td>\n",
       "      <td>0.003</td>\n",
       "      <td>0.006</td>\n",
       "      <td>4</td>\n",
       "      <td>4</td>\n",
       "      <td>0</td>\n",
       "      <td>{'max_depth': 4, 'max_features': 4, 'random_st...</td>\n",
       "      <td>-942468509.920</td>\n",
       "      <td>-734529168.948</td>\n",
       "      <td>-882699941.511</td>\n",
       "      <td>-804985743.271</td>\n",
       "      <td>-954750261.253</td>\n",
       "      <td>-863886724.981</td>\n",
       "      <td>83651562.106</td>\n",
       "      <td>3</td>\n",
       "    </tr>\n",
       "  </tbody>\n",
       "</table>\n",
       "</div>"
      ],
      "text/plain": [
       "    mean_fit_time  std_fit_time  mean_score_time  std_score_time  \\\n",
       "0           0.026         0.008            0.007           0.003   \n",
       "1           0.022         0.003            0.006           0.004   \n",
       "2           0.026         0.009            0.006           0.002   \n",
       "3           0.018         0.005            0.005           0.006   \n",
       "4           0.020         0.006            0.003           0.006   \n",
       "5           0.016         0.000            0.008           0.007   \n",
       "6           0.021         0.003            0.003           0.003   \n",
       "7           0.023         0.006            0.005           0.003   \n",
       "8           0.019         0.003            0.007           0.006   \n",
       "9           0.022         0.008            0.004           0.004   \n",
       "10          0.019         0.006            0.004           0.006   \n",
       "11          0.019         0.006            0.004           0.006   \n",
       "12          0.025         0.008            0.009           0.006   \n",
       "13          0.022         0.008            0.004           0.006   \n",
       "14          0.020         0.006            0.006           0.008   \n",
       "15          0.021         0.006            0.003           0.006   \n",
       "\n",
       "   param_max_depth param_max_features param_random_state  \\\n",
       "0                1                  1                  0   \n",
       "1                1                  2                  0   \n",
       "2                1                  3                  0   \n",
       "3                1                  4                  0   \n",
       "4                2                  1                  0   \n",
       "5                2                  2                  0   \n",
       "6                2                  3                  0   \n",
       "7                2                  4                  0   \n",
       "8                3                  1                  0   \n",
       "9                3                  2                  0   \n",
       "10               3                  3                  0   \n",
       "11               3                  4                  0   \n",
       "12               4                  1                  0   \n",
       "13               4                  2                  0   \n",
       "14               4                  3                  0   \n",
       "15               4                  4                  0   \n",
       "\n",
       "                                               params  split0_test_score  \\\n",
       "0   {'max_depth': 1, 'max_features': 1, 'random_st...     -997527974.201   \n",
       "1   {'max_depth': 1, 'max_features': 2, 'random_st...     -997975870.246   \n",
       "2   {'max_depth': 1, 'max_features': 3, 'random_st...     -986068693.940   \n",
       "3   {'max_depth': 1, 'max_features': 4, 'random_st...     -986068693.940   \n",
       "4   {'max_depth': 2, 'max_features': 1, 'random_st...     -996490372.809   \n",
       "5   {'max_depth': 2, 'max_features': 2, 'random_st...     -996946973.633   \n",
       "6   {'max_depth': 2, 'max_features': 3, 'random_st...     -969811583.866   \n",
       "7   {'max_depth': 2, 'max_features': 4, 'random_st...     -982713573.930   \n",
       "8   {'max_depth': 3, 'max_features': 1, 'random_st...     -992620573.217   \n",
       "9   {'max_depth': 3, 'max_features': 2, 'random_st...     -963480682.134   \n",
       "10  {'max_depth': 3, 'max_features': 3, 'random_st...     -711158640.767   \n",
       "11  {'max_depth': 3, 'max_features': 4, 'random_st...     -871198982.020   \n",
       "12  {'max_depth': 4, 'max_features': 1, 'random_st...     -999402169.915   \n",
       "13  {'max_depth': 4, 'max_features': 2, 'random_st...     -954490700.321   \n",
       "14  {'max_depth': 4, 'max_features': 3, 'random_st...     -673535627.956   \n",
       "15  {'max_depth': 4, 'max_features': 4, 'random_st...     -942468509.920   \n",
       "\n",
       "    split1_test_score  split2_test_score  split3_test_score  \\\n",
       "0      -992475505.903     -934306596.646    -1004573568.526   \n",
       "1      -992475505.903     -934202375.860    -1004635347.873   \n",
       "2      -972814621.276     -920043980.268     -997926096.305   \n",
       "3      -972814621.276     -920043980.268     -997926096.305   \n",
       "4      -992306520.398     -932135670.013    -1003759702.573   \n",
       "5      -976087254.774     -935586264.876    -1002983978.734   \n",
       "6      -755794407.028     -908478812.456     -979317773.616   \n",
       "7      -974503916.115     -919663257.773     -997704078.603   \n",
       "8      -989090204.627     -940505133.693     -998900308.457   \n",
       "9      -960258768.249     -912984630.633     -979905542.789   \n",
       "10     -732356313.178     -709506366.187     -753658308.853   \n",
       "11     -954863478.154     -837811539.996     -904960115.122   \n",
       "12     -988713807.509     -931640620.946     -994781856.066   \n",
       "13     -936378832.265     -910022835.353     -973397851.809   \n",
       "14     -967247345.713     -708730437.691     -750376246.461   \n",
       "15     -734529168.948     -882699941.511     -804985743.271   \n",
       "\n",
       "    split4_test_score  mean_test_score  std_test_score  rank_test_score  \n",
       "0      -970067215.408   -979790172.137    25507079.717               15  \n",
       "1      -969689178.103   -979795655.597    25648380.710               16  \n",
       "2      -960303338.034   -967431345.965    26842619.528                9  \n",
       "3      -960303338.034   -967431345.965    26842619.528                9  \n",
       "4      -970021149.747   -978942683.108    25972632.706               14  \n",
       "5      -968899285.858   -976100751.575    23877009.024               12  \n",
       "6      -928665884.458   -908413692.285    80622443.030                5  \n",
       "7      -955909260.881   -966098817.461    26853962.890                8  \n",
       "8      -965513169.822   -977325877.963    21601344.487               13  \n",
       "9      -946362491.480   -952598423.057    22498544.984                7  \n",
       "10     -743167222.734   -729969370.344    17398992.487                1  \n",
       "11     -896217072.053   -893010237.469    38733793.551                4  \n",
       "12     -934470105.894   -969801712.066    30207460.414               11  \n",
       "13     -919369856.037   -938732015.157    23042152.978                6  \n",
       "14     -725578715.452   -765093674.655   104119000.967                2  \n",
       "15     -954750261.253   -863886724.981    83651562.106                3  "
      ]
     },
     "execution_count": 37,
     "metadata": {},
     "output_type": "execute_result"
    }
   ],
   "source": [
    "grid_scores = pd.DataFrame(grid_search.cv_results_)\n",
    "grid_scores"
   ]
  },
  {
   "cell_type": "code",
   "execution_count": null,
   "metadata": {},
   "outputs": [],
   "source": [
    "#vemos que el valor con mejor resultado (dado el espacio de búsqueda definido) es max_depth 3 y max_features 3."
   ]
  },
  {
   "cell_type": "code",
   "execution_count": null,
   "metadata": {},
   "outputs": [],
   "source": [
    "#Mostramos el mejor score y los mejores parámetros encontrados por grid_search"
   ]
  },
  {
   "cell_type": "code",
   "execution_count": 38,
   "metadata": {},
   "outputs": [
    {
     "name": "stdout",
     "output_type": "stream",
     "text": [
      "Mejores parametros: {'max_depth': 3, 'max_features': 3, 'random_state': 0}\n",
      "Mejor score: -729969370.3438246\n",
      "\n"
     ]
    }
   ],
   "source": [
    "print(\"Mejores parametros: \"+str (grid_search.best_params_))\n",
    "print(\"Mejor score: \"+str (grid_search.best_score_)+'\\n')"
   ]
  },
  {
   "cell_type": "code",
   "execution_count": null,
   "metadata": {},
   "outputs": [],
   "source": [
    "#Convertimos a RMSE"
   ]
  },
  {
   "cell_type": "code",
   "execution_count": 39,
   "metadata": {},
   "outputs": [],
   "source": [
    "def nmsq2rmse(score):\n",
    "    return np.round(np.sqrt(-score), 2)"
   ]
  },
  {
   "cell_type": "markdown",
   "metadata": {},
   "source": [
    "__Encontrar el mejor modelo para el espacio de búsqueda dado__\n",
    "\n",
    "* `\"min_samples_split\": [2, 10, 20]`\n",
    "* `\"max_depth\": [None, 2, 5, 10, 15]`\n",
    "* `\"min_samples_leaf\": [1, 5, 10, 15]`\n",
    "* `\"max_leaf_nodes\": [None, 5, 10, 20]`"
   ]
  },
  {
   "cell_type": "code",
   "execution_count": 40,
   "metadata": {},
   "outputs": [],
   "source": [
    "param_grid={'min_samples_split':[2, 10, 20],\n",
    "              \"max_depth\":[None, 2, 5, 10, 15],\n",
    "            \"min_samples_leaf\": [1, 5, 10, 15],\n",
    "            \"max_leaf_nodes\": [None, 5, 10, 20]}"
   ]
  },
  {
   "cell_type": "code",
   "execution_count": 41,
   "metadata": {},
   "outputs": [
    {
     "name": "stdout",
     "output_type": "stream",
     "text": [
      "Mejores Parámetros: {'max_depth': 10, 'max_leaf_nodes': None, 'min_samples_leaf': 15, 'min_samples_split': 2}\n",
      "Mejor Score: -459407773.74392384\n",
      "\n"
     ]
    }
   ],
   "source": [
    "dtr = DecisionTreeRegressor()\n",
    "grid_search = GridSearchCV(dtr,param_grid=param_grid,scoring='neg_mean_squared_error',cv=5)\n",
    "grid_search.fit(X_train, y_train)\n",
    "grid_search.scorer_\n",
    "grid_scores = pd.DataFrame(grid_search.cv_results_)\n",
    "grid_scores\n",
    "print(\"Mejores Parámetros: \"+str(grid_search.best_params_))\n",
    "print(\"Mejor Score: \"+str(grid_search.best_score_)+'\\n')"
   ]
  },
  {
   "cell_type": "code",
   "execution_count": 13,
   "metadata": {},
   "outputs": [
    {
     "name": "stdout",
     "output_type": "stream",
     "text": [
      "DecisionTreeRegressor(criterion='mse', max_depth=10, max_features=None,\n",
      "                      max_leaf_nodes=None, min_impurity_decrease=0.0,\n",
      "                      min_impurity_split=None, min_samples_leaf=15,\n",
      "                      min_samples_split=2, min_weight_fraction_leaf=0.0,\n",
      "                      presort=False, random_state=None, splitter='best')\n"
     ]
    }
   ],
   "source": [
    "optimised_decision_tree = grid_search.best_estimator_\n",
    "print(optimised_decision_tree)"
   ]
  },
  {
   "cell_type": "code",
   "execution_count": null,
   "metadata": {},
   "outputs": [],
   "source": [
    "#evaluamos en el conjunto de testing el desempeño de este modelo "
   ]
  },
  {
   "cell_type": "code",
   "execution_count": 14,
   "metadata": {},
   "outputs": [
    {
     "data": {
      "text/plain": [
       "21301.0"
      ]
     },
     "execution_count": 14,
     "metadata": {},
     "output_type": "execute_result"
    }
   ],
   "source": [
    "from sklearn.metrics import mean_squared_error\n",
    "y_opt_pred = optimised_decision_tree.predict(X_test)\n",
    "rmse = np.sqrt(mean_squared_error(y_test, y_opt_pred))\n",
    "np.round(rmse)"
   ]
  },
  {
   "cell_type": "code",
   "execution_count": null,
   "metadata": {},
   "outputs": [],
   "source": [
    "#Vemos los primeros 10 resultados de la predicción del valor de propiedades"
   ]
  },
  {
   "cell_type": "code",
   "execution_count": 15,
   "metadata": {},
   "outputs": [],
   "source": [
    "val_real = pd.Series(y_test.values)\n",
    "val_pred = pd.Series(y_opt_pred)"
   ]
  },
  {
   "cell_type": "code",
   "execution_count": 16,
   "metadata": {},
   "outputs": [],
   "source": [
    "predicciones = pd.concat([val_real.rename('Valor real'),val_pred.rename('Valor Pred') ,abs(val_real-val_pred).rename('Dif(+/-)')] ,  axis=1)"
   ]
  },
  {
   "cell_type": "code",
   "execution_count": 17,
   "metadata": {},
   "outputs": [
    {
     "data": {
      "text/html": [
       "<div>\n",
       "<style scoped>\n",
       "    .dataframe tbody tr th:only-of-type {\n",
       "        vertical-align: middle;\n",
       "    }\n",
       "\n",
       "    .dataframe tbody tr th {\n",
       "        vertical-align: top;\n",
       "    }\n",
       "\n",
       "    .dataframe thead th {\n",
       "        text-align: right;\n",
       "    }\n",
       "</style>\n",
       "<table border=\"1\" class=\"dataframe\">\n",
       "  <thead>\n",
       "    <tr style=\"text-align: right;\">\n",
       "      <th></th>\n",
       "      <th>Valor real</th>\n",
       "      <th>Valor Pred</th>\n",
       "      <th>Dif(+/-)</th>\n",
       "    </tr>\n",
       "  </thead>\n",
       "  <tbody>\n",
       "    <tr>\n",
       "      <th>0</th>\n",
       "      <td>80000.000</td>\n",
       "      <td>103438.660</td>\n",
       "      <td>23438.660</td>\n",
       "    </tr>\n",
       "    <tr>\n",
       "      <th>1</th>\n",
       "      <td>128000.000</td>\n",
       "      <td>135705.882</td>\n",
       "      <td>7705.882</td>\n",
       "    </tr>\n",
       "    <tr>\n",
       "      <th>2</th>\n",
       "      <td>150000.000</td>\n",
       "      <td>156075.759</td>\n",
       "      <td>6075.759</td>\n",
       "    </tr>\n",
       "    <tr>\n",
       "      <th>3</th>\n",
       "      <td>85000.000</td>\n",
       "      <td>102400.991</td>\n",
       "      <td>17400.991</td>\n",
       "    </tr>\n",
       "    <tr>\n",
       "      <th>4</th>\n",
       "      <td>135000.000</td>\n",
       "      <td>135571.622</td>\n",
       "      <td>571.622</td>\n",
       "    </tr>\n",
       "    <tr>\n",
       "      <th>5</th>\n",
       "      <td>135000.000</td>\n",
       "      <td>109560.000</td>\n",
       "      <td>25440.000</td>\n",
       "    </tr>\n",
       "    <tr>\n",
       "      <th>6</th>\n",
       "      <td>68000.000</td>\n",
       "      <td>75181.250</td>\n",
       "      <td>7181.250</td>\n",
       "    </tr>\n",
       "    <tr>\n",
       "      <th>7</th>\n",
       "      <td>110000.000</td>\n",
       "      <td>140444.444</td>\n",
       "      <td>30444.444</td>\n",
       "    </tr>\n",
       "    <tr>\n",
       "      <th>8</th>\n",
       "      <td>134000.000</td>\n",
       "      <td>158431.250</td>\n",
       "      <td>24431.250</td>\n",
       "    </tr>\n",
       "    <tr>\n",
       "      <th>9</th>\n",
       "      <td>110000.000</td>\n",
       "      <td>76701.202</td>\n",
       "      <td>33298.798</td>\n",
       "    </tr>\n",
       "  </tbody>\n",
       "</table>\n",
       "</div>"
      ],
      "text/plain": [
       "   Valor real  Valor Pred  Dif(+/-)\n",
       "0   80000.000  103438.660 23438.660\n",
       "1  128000.000  135705.882  7705.882\n",
       "2  150000.000  156075.759  6075.759\n",
       "3   85000.000  102400.991 17400.991\n",
       "4  135000.000  135571.622   571.622\n",
       "5  135000.000  109560.000 25440.000\n",
       "6   68000.000   75181.250  7181.250\n",
       "7  110000.000  140444.444 30444.444\n",
       "8  134000.000  158431.250 24431.250\n",
       "9  110000.000   76701.202 33298.798"
      ]
     },
     "execution_count": 17,
     "metadata": {},
     "output_type": "execute_result"
    }
   ],
   "source": [
    "predicciones.head(10)"
   ]
  }
 ],
 "metadata": {
  "kernelspec": {
   "display_name": "Python 3",
   "language": "python",
   "name": "python3"
  },
  "language_info": {
   "codemirror_mode": {
    "name": "ipython",
    "version": 3
   },
   "file_extension": ".py",
   "mimetype": "text/x-python",
   "name": "python",
   "nbconvert_exporter": "python",
   "pygments_lexer": "ipython3",
   "version": "3.7.3"
  }
 },
 "nbformat": 4,
 "nbformat_minor": 2
}
